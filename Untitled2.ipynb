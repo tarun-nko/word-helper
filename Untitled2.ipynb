{
 "cells": [
  {
   "cell_type": "code",
   "execution_count": 1,
   "metadata": {},
   "outputs": [],
   "source": [
    "# -*- coding: utf-8 -*-\n",
    "\"\"\"\n",
    "Created on Fri May 14 17:13:02 2021\n",
    "\n",
    "@author: tarun\n",
    "\"\"\"\n",
    "from functools import cmp_to_key\n",
    "letter_score = {}\n",
    "def assign_score(letters, score):\n",
    "    for letter in letters.split(','):\n",
    "        letter_score[letter] = score\n",
    "\n",
    "# initialize the scores for every letter\n",
    "assign_score('E,A,O,T,I,N,R,S,L,U', 1)\n",
    "assign_score('D,G', 2)\n",
    "assign_score('C,M,B,P', 3)\n",
    "assign_score('H,F,W,Y,V', 4)\n",
    "assign_score('K', 5)\n",
    "assign_score('J,X', 8)\n",
    "assign_score('Q,Z', 10)\n",
    "\n",
    "def get_word_score(word):\n",
    "    return sum([letter_score[w] for w in word])\n",
    "\n",
    "def compare(a, b):\n",
    "    s1 = get_word_score(a)\n",
    "    s2 = get_word_score(b)\n",
    "    return s2 - s1\n",
    "\n",
    "# check if all the letters of word are in contains_list\n",
    "def check_contains(contains_list, word, a, b):\n",
    "    if b != 0:\n",
    "        word = word[a:-1 * b]\n",
    "    else: word = word[a:]\n",
    "    from collections import defaultdict\n",
    "    d = defaultdict(lambda: 0)\n",
    "    for c in contains_list:\n",
    "        d[c] = d[c] + 1\n",
    "    for w in word:\n",
    "        if w in d and d[w] != 0:\n",
    "            d[w] -= 1\n",
    "        else:\n",
    "            return False\n",
    "    return True\n",
    "\n",
    "# check which words begin with prefix and the following letters are contained in contains_list\n",
    "def get_prefix_and_contains(prefix, suffix, contains_list, word_list):\n",
    "    return [word for word in word_list if word.startswith(prefix) and word.endswith(suffix) and check_contains(contains_list, word, len(prefix), len(suffix))]\n",
    "\n",
    "word_list = []\n",
    "with open('dictionary.txt', 'r') as f:\n",
    "    word_list = [word.rstrip() for word in f]\n"
   ]
  },
  {
   "cell_type": "code",
   "execution_count": 11,
   "metadata": {},
   "outputs": [
    {
     "name": "stdout",
     "output_type": "stream",
     "text": [
      " ['N', 'N', 'R', 'R', 'S', 'V', 'E', 'I'] \n",
      "['RIVERS', 'VENINS', 'VERSIN', 'VINERS', 'RIVEN', 'RIVER', 'RIVES', 'SIVER', 'VEINS', 'VENIN', 'VIERS', 'VINER', 'VINES', 'VIRES', 'VISNE', 'NEVI', 'REVS', 'RIVE', 'VEIN', 'VERS', 'VIER', 'VIES', 'VINE', 'VINS', 'VIRE', 'VISE', 'INNERS', 'NINERS', 'RENINS', 'REV', 'RINSER', 'SEV', 'SINNER', 'VIE', 'VIN', 'VIS', 'INNER', 'NINER', 'NINES', 'REINS', 'RENIN', 'RESIN', 'RINES', 'RINSE', 'RISEN', 'RISER', 'SERIN', 'SIREN', 'ERNS', 'ERRS', 'INNS', 'IRES', 'NIES', 'NINE', 'REIN', 'REIS', 'RENS', 'RINE', 'RINS', 'RISE', 'SEIR', 'SERR', 'SIEN', 'SINE', 'SIRE', 'ENS', 'ERN', 'ERR', 'ERS', 'INN', 'INS', 'IRE', 'NIE', 'NIS', 'REI', 'REN', 'RES', 'RIN', 'SEI', 'SEN', 'SER', 'SIN', 'SIR', 'SRI', 'EN', 'ER', 'ES', 'IN', 'IS', 'NE', 'RE', 'SI']\n"
     ]
    }
   ],
   "source": [
    "prefix = ''\n",
    "suffix = ''\n",
    "contains = 'n,n,s,e,q,n,i'\n",
    "prefix = prefix.upper()\n",
    "suffix = suffix.upper()\n",
    "contains = contains.upper()\n",
    "print(prefix, contains.split(','), suffix)\n",
    "ls = get_prefix_and_contains(prefix, suffix, contains.split(','), word_list)\n",
    "print(sorted(ls, key=cmp_to_key(compare)))\n"
   ]
  },
  {
   "cell_type": "code",
   "execution_count": null,
   "metadata": {},
   "outputs": [],
   "source": []
  }
 ],
 "metadata": {
  "kernelspec": {
   "display_name": "Python 3",
   "language": "python",
   "name": "python3"
  },
  "language_info": {
   "codemirror_mode": {
    "name": "ipython",
    "version": 3
   },
   "file_extension": ".py",
   "mimetype": "text/x-python",
   "name": "python",
   "nbconvert_exporter": "python",
   "pygments_lexer": "ipython3",
   "version": "3.8.3"
  }
 },
 "nbformat": 4,
 "nbformat_minor": 4
}
